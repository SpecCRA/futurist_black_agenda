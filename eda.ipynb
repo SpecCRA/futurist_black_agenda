{
 "nbformat": 4,
 "nbformat_minor": 2,
 "metadata": {
  "language_info": {
   "name": "python",
   "codemirror_mode": {
    "name": "ipython",
    "version": 3
   },
   "version": "3.7.3"
  },
  "orig_nbformat": 2,
  "file_extension": ".py",
  "mimetype": "text/x-python",
  "name": "python",
  "npconvert_exporter": "python",
  "pygments_lexer": "ipython3",
  "version": 3
 },
 "cells": [
  {
   "cell_type": "code",
   "execution_count": 1,
   "metadata": {},
   "outputs": [],
   "source": [
    "import pandas as pd\n",
    "import numpy as np\n",
    "import matplotlib.pyplot as plt\n",
    "import seaborn as sns\n",
    "\n",
    "%matplotlib inline"
   ]
  },
  {
   "cell_type": "markdown",
   "execution_count": null,
   "metadata": {},
   "outputs": [],
   "source": [
    "# Import data"
   ]
  },
  {
   "cell_type": "code",
   "execution_count": 3,
   "metadata": {},
   "outputs": [],
   "source": [
    "# income and debt\n",
    "# linux path\n",
    "wealth_file = 'data_files/2016_median_wealth_and_debt.csv'\n",
    "wealth_df = pd.read_csv(wealth_file)\n",
    "\n",
    "income_file = 'data_files/income_estimates_by_year_and_race.csv'\n",
    "income_df = pd.read_csv(income_file)"
   ]
  },
  {
   "cell_type": "code",
   "execution_count": 4,
   "metadata": {},
   "outputs": [
    {
     "data": {
      "text/html": "<div>\n<style scoped>\n    .dataframe tbody tr th:only-of-type {\n        vertical-align: middle;\n    }\n\n    .dataframe tbody tr th {\n        vertical-align: top;\n    }\n\n    .dataframe thead th {\n        text-align: right;\n    }\n</style>\n<table border=\"1\" class=\"dataframe\">\n  <thead>\n    <tr style=\"text-align: right;\">\n      <th></th>\n      <th>race</th>\n      <th>median_value_assets</th>\n      <th>std_error_value</th>\n      <th>median_debt</th>\n      <th>std_error_debt</th>\n    </tr>\n  </thead>\n  <tbody>\n    <tr>\n      <th>0</th>\n      <td>White alone</td>\n      <td>114700</td>\n      <td>3874</td>\n      <td>66600</td>\n      <td>102000</td>\n    </tr>\n    <tr>\n      <th>1</th>\n      <td>White alone, not Hispanic</td>\n      <td>143600</td>\n      <td>3988</td>\n      <td>72600</td>\n      <td>86190</td>\n    </tr>\n    <tr>\n      <th>2</th>\n      <td>Black alone</td>\n      <td>12920</td>\n      <td>2414</td>\n      <td>34500</td>\n      <td>16920</td>\n    </tr>\n    <tr>\n      <th>3</th>\n      <td>Asian alone</td>\n      <td>210100</td>\n      <td>20070</td>\n      <td>107000</td>\n      <td>6727</td>\n    </tr>\n    <tr>\n      <th>4</th>\n      <td>Other (residual)</td>\n      <td>20140</td>\n      <td>5951</td>\n      <td>42000</td>\n      <td>3970</td>\n    </tr>\n  </tbody>\n</table>\n</div>",
      "text/plain": "                        race  median_value_assets  std_error_value  \\\n0                White alone               114700             3874   \n1  White alone, not Hispanic               143600             3988   \n2                Black alone                12920             2414   \n3                Asian alone               210100            20070   \n4           Other (residual)                20140             5951   \n\n   median_debt  std_error_debt  \n0        66600          102000  \n1        72600           86190  \n2        34500           16920  \n3       107000            6727  \n4        42000            3970  "
     },
     "execution_count": 4,
     "metadata": {},
     "output_type": "execute_result"
    }
   ],
   "source": [
    "wealth_df.head()"
   ]
  },
  {
   "cell_type": "code",
   "execution_count": 5,
   "metadata": {},
   "outputs": [
    {
     "data": {
      "text/html": "<div>\n<style scoped>\n    .dataframe tbody tr th:only-of-type {\n        vertical-align: middle;\n    }\n\n    .dataframe tbody tr th {\n        vertical-align: top;\n    }\n\n    .dataframe thead th {\n        text-align: right;\n    }\n</style>\n<table border=\"1\" class=\"dataframe\">\n  <thead>\n    <tr style=\"text-align: right;\">\n      <th></th>\n      <th>race</th>\n      <th>year</th>\n      <th>median_income</th>\n      <th>std_median_income</th>\n      <th>mean_income</th>\n      <th>std_mean_income</th>\n    </tr>\n  </thead>\n  <tbody>\n    <tr>\n      <th>0</th>\n      <td>all_races</td>\n      <td>2018</td>\n      <td>63,179</td>\n      <td>420</td>\n      <td>90,021</td>\n      <td>546</td>\n    </tr>\n    <tr>\n      <th>1</th>\n      <td>all_races</td>\n      <td>2017</td>\n      <td>62,626</td>\n      <td>330</td>\n      <td>89,779</td>\n      <td>584</td>\n    </tr>\n    <tr>\n      <th>2</th>\n      <td>all_races</td>\n      <td>2016</td>\n      <td>61,779</td>\n      <td>456</td>\n      <td>87,001</td>\n      <td>491</td>\n    </tr>\n    <tr>\n      <th>3</th>\n      <td>all_races</td>\n      <td>2015</td>\n      <td>59,901</td>\n      <td>340</td>\n      <td>84,011</td>\n      <td>427</td>\n    </tr>\n    <tr>\n      <th>4</th>\n      <td>all_races</td>\n      <td>2014</td>\n      <td>56,969</td>\n      <td>416</td>\n      <td>80,413</td>\n      <td>474</td>\n    </tr>\n  </tbody>\n</table>\n</div>",
      "text/plain": "        race  year median_income std_median_income mean_income std_mean_income\n0  all_races  2018        63,179               420      90,021             546\n1  all_races  2017        62,626               330      89,779             584\n2  all_races  2016        61,779               456      87,001             491\n3  all_races  2015        59,901               340      84,011             427\n4  all_races  2014        56,969               416      80,413             474"
     },
     "execution_count": 5,
     "metadata": {},
     "output_type": "execute_result"
    }
   ],
   "source": [
    "income_df.head()"
   ]
  },
  {
   "cell_type": "markdown",
   "execution_count": null,
   "metadata": {},
   "outputs": [],
   "source": [
    "# Data transformations"
   ]
  },
  {
   "cell_type": "code",
   "execution_count": 7,
   "metadata": {},
   "outputs": [],
   "source": [
    "white_income = wealth_df.median_value_assets.iloc[1]"
   ]
  },
  {
   "cell_type": "code",
   "execution_count": 8,
   "metadata": {},
   "outputs": [],
   "source": [
    "# calculate % income based on white alone, not hispanic\n",
    "\n",
    "wealth_df['median_perc_income_of_white'] = wealth_df.median_value_assets / white_income"
   ]
  },
  {
   "cell_type": "code",
   "execution_count": 9,
   "metadata": {},
   "outputs": [
    {
     "data": {
      "text/html": "<div>\n<style scoped>\n    .dataframe tbody tr th:only-of-type {\n        vertical-align: middle;\n    }\n\n    .dataframe tbody tr th {\n        vertical-align: top;\n    }\n\n    .dataframe thead th {\n        text-align: right;\n    }\n</style>\n<table border=\"1\" class=\"dataframe\">\n  <thead>\n    <tr style=\"text-align: right;\">\n      <th></th>\n      <th>race</th>\n      <th>median_value_assets</th>\n      <th>std_error_value</th>\n      <th>median_debt</th>\n      <th>std_error_debt</th>\n      <th>median_perc_income_of_white</th>\n    </tr>\n  </thead>\n  <tbody>\n    <tr>\n      <th>0</th>\n      <td>White alone</td>\n      <td>114700</td>\n      <td>3874</td>\n      <td>66600</td>\n      <td>102000</td>\n      <td>0.798747</td>\n    </tr>\n    <tr>\n      <th>1</th>\n      <td>White alone, not Hispanic</td>\n      <td>143600</td>\n      <td>3988</td>\n      <td>72600</td>\n      <td>86190</td>\n      <td>1.000000</td>\n    </tr>\n    <tr>\n      <th>2</th>\n      <td>Black alone</td>\n      <td>12920</td>\n      <td>2414</td>\n      <td>34500</td>\n      <td>16920</td>\n      <td>0.089972</td>\n    </tr>\n    <tr>\n      <th>3</th>\n      <td>Asian alone</td>\n      <td>210100</td>\n      <td>20070</td>\n      <td>107000</td>\n      <td>6727</td>\n      <td>1.463092</td>\n    </tr>\n    <tr>\n      <th>4</th>\n      <td>Other (residual)</td>\n      <td>20140</td>\n      <td>5951</td>\n      <td>42000</td>\n      <td>3970</td>\n      <td>0.140251</td>\n    </tr>\n    <tr>\n      <th>5</th>\n      <td>Hispanic origin (any race)</td>\n      <td>21420</td>\n      <td>3182</td>\n      <td>36000</td>\n      <td>17560</td>\n      <td>0.149164</td>\n    </tr>\n    <tr>\n      <th>6</th>\n      <td>Not of Hispanic origin</td>\n      <td>111800</td>\n      <td>2820</td>\n      <td>65000</td>\n      <td>112100</td>\n      <td>0.778552</td>\n    </tr>\n  </tbody>\n</table>\n</div>",
      "text/plain": "                         race  median_value_assets  std_error_value  \\\n0                 White alone               114700             3874   \n1   White alone, not Hispanic               143600             3988   \n2                 Black alone                12920             2414   \n3                 Asian alone               210100            20070   \n4            Other (residual)                20140             5951   \n5  Hispanic origin (any race)                21420             3182   \n6      Not of Hispanic origin               111800             2820   \n\n   median_debt  std_error_debt  median_perc_income_of_white  \n0        66600          102000                     0.798747  \n1        72600           86190                     1.000000  \n2        34500           16920                     0.089972  \n3       107000            6727                     1.463092  \n4        42000            3970                     0.140251  \n5        36000           17560                     0.149164  \n6        65000          112100                     0.778552  "
     },
     "execution_count": 9,
     "metadata": {},
     "output_type": "execute_result"
    }
   ],
   "source": [
    "wealth_df"
   ]
  }
 ]
}